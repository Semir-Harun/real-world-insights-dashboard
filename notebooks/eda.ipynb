{
 "cells": [
  {
   "cell_type": "markdown",
   "id": "af563aac",
   "metadata": {},
   "source": [
    "# EDA – Real-World Data Insights\n",
    "\n",
    "Explore the raw dataset here."
   ]
  },
  {
   "cell_type": "code",
   "execution_count": null,
   "id": "757bedd9",
   "metadata": {},
   "outputs": [],
   "source": [
    "import pandas as pd\n",
    "from pathlib import Path\n",
    "RAW = Path('../data/raw/dataset.csv')\n",
    "RAW.exists(), RAW"
   ]
  },
  {
   "cell_type": "code",
   "execution_count": null,
   "id": "2ccb5dda",
   "metadata": {},
   "outputs": [],
   "source": [
    "df = pd.read_csv(RAW) if RAW.exists() else None\n",
    "(df.head() if df is not None else 'Place your CSV at data/raw/dataset.csv')"
   ]
  }
 ],
 "metadata": {},
 "nbformat": 4,
 "nbformat_minor": 5
}
